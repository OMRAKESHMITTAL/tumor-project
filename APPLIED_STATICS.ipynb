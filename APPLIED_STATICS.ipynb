{
  "nbformat": 4,
  "nbformat_minor": 0,
  "metadata": {
    "colab": {
      "provenance": [],
      "mount_file_id": "1J6IrACVtKST2kDprSOqRLTqUB23ybZAG",
      "authorship_tag": "ABX9TyOQoLirv/gq6AR25fOIKFvp",
      "include_colab_link": true
    },
    "kernelspec": {
      "name": "python3",
      "display_name": "Python 3"
    },
    "language_info": {
      "name": "python"
    }
  },
  "cells": [
    {
      "cell_type": "markdown",
      "metadata": {
        "id": "view-in-github",
        "colab_type": "text"
      },
      "source": [
        "<a href=\"https://colab.research.google.com/github/OMRAKESHMITTAL/tumor-project/blob/main/APPLIED_STATICS.ipynb\" target=\"_parent\"><img src=\"https://colab.research.google.com/assets/colab-badge.svg\" alt=\"Open In Colab\"/></a>"
      ]
    },
    {
      "cell_type": "markdown",
      "source": [
        "# MODEL FOR SIZE OF TUMOR THROUGH LINEAR REGRESSION BY :\n",
        "#    Om Mittal\n",
        "\n"
      ],
      "metadata": {
        "id": "prLKVizhx2vN"
      }
    },
    {
      "cell_type": "code",
      "execution_count": null,
      "metadata": {
        "colab": {
          "base_uri": "https://localhost:8080/"
        },
        "id": "EN7x3GYTf9rp",
        "outputId": "239005ab-9694-4bdb-9835-1d9741afc0f3"
      },
      "outputs": [
        {
          "output_type": "stream",
          "name": "stdout",
          "text": [
            "Drive already mounted at /content/drive; to attempt to forcibly remount, call drive.mount(\"/content/drive\", force_remount=True).\n"
          ]
        }
      ],
      "source": [
        "#MOUNTING GOOGLE DRIVE TO COLAB FOR CSV FILE READING\n",
        "from google.colab import drive\n",
        "drive.mount('/content/drive')"
      ]
    },
    {
      "cell_type": "code",
      "source": [
        "#IMPORTING IMPORTANT LIBRARIES FOR LINEAR\n",
        "import pandas as pd #to read csv file\n",
        "from sklearn.linear_model import LinearRegression #for train according to linear regession\n",
        "from sklearn.model_selection import train_test_split#to split the model for training and testing\n",
        "from sklearn.metrics import r2_score #for accuray of model"
      ],
      "metadata": {
        "id": "h8QmwcjYiO2P"
      },
      "execution_count": null,
      "outputs": []
    },
    {
      "cell_type": "code",
      "source": [
        "#loding data from google drive\n",
        "t = pd.read_csv(\"/content/drive/MyDrive/tumor.csv\")\n",
        "t #printing dataset"
      ],
      "metadata": {
        "colab": {
          "base_uri": "https://localhost:8080/",
          "height": 424
        },
        "id": "Vz0T62wIjHMF",
        "outputId": "f6862b98-70f5-4429-8acc-17a5a8a083d7"
      },
      "execution_count": null,
      "outputs": [
        {
          "output_type": "execute_result",
          "data": {
            "text/plain": [
              "       mass_npea  size_npear  malign_ratio  damage_size  exposed_area  \\\n",
              "0        4946.44      914.06       0.18479      54.5566  6.628345e+05   \n",
              "1        5613.85     1629.12       0.29019      51.5524  7.842271e+05   \n",
              "2       12421.10     3062.41       0.24654     154.1560  1.763575e+06   \n",
              "3        6830.77     2457.66       0.35979      56.8995  9.296623e+05   \n",
              "4       33407.80    12353.60       0.36978     219.0740  4.595871e+06   \n",
              "...          ...         ...           ...          ...           ...   \n",
              "36579   16301.90     4967.74       0.30473     210.0270  2.130257e+06   \n",
              "36580    8111.15     1910.59       0.23555      70.8298  1.149657e+06   \n",
              "36581   13554.10     3963.33       0.29240     144.6260  1.815171e+06   \n",
              "36582    5764.68     1117.16       0.19379      54.9415  7.784623e+05   \n",
              "36583    4419.05      840.74       0.19025      45.5905  5.966973e+05   \n",
              "\n",
              "       tumor_size  \n",
              "0        3.418762  \n",
              "1        7.348026  \n",
              "2        3.096391  \n",
              "3       10.489805  \n",
              "4       27.416072  \n",
              "...           ...  \n",
              "36579    6.980089  \n",
              "36580    7.591675  \n",
              "36581    7.315385  \n",
              "36582    4.724118  \n",
              "36583    3.169346  \n",
              "\n",
              "[36584 rows x 6 columns]"
            ],
            "text/html": [
              "\n",
              "  <div id=\"df-75f5a35e-969a-4034-b264-6ddaf7ecdca6\">\n",
              "    <div class=\"colab-df-container\">\n",
              "      <div>\n",
              "<style scoped>\n",
              "    .dataframe tbody tr th:only-of-type {\n",
              "        vertical-align: middle;\n",
              "    }\n",
              "\n",
              "    .dataframe tbody tr th {\n",
              "        vertical-align: top;\n",
              "    }\n",
              "\n",
              "    .dataframe thead th {\n",
              "        text-align: right;\n",
              "    }\n",
              "</style>\n",
              "<table border=\"1\" class=\"dataframe\">\n",
              "  <thead>\n",
              "    <tr style=\"text-align: right;\">\n",
              "      <th></th>\n",
              "      <th>mass_npea</th>\n",
              "      <th>size_npear</th>\n",
              "      <th>malign_ratio</th>\n",
              "      <th>damage_size</th>\n",
              "      <th>exposed_area</th>\n",
              "      <th>tumor_size</th>\n",
              "    </tr>\n",
              "  </thead>\n",
              "  <tbody>\n",
              "    <tr>\n",
              "      <th>0</th>\n",
              "      <td>4946.44</td>\n",
              "      <td>914.06</td>\n",
              "      <td>0.18479</td>\n",
              "      <td>54.5566</td>\n",
              "      <td>6.628345e+05</td>\n",
              "      <td>3.418762</td>\n",
              "    </tr>\n",
              "    <tr>\n",
              "      <th>1</th>\n",
              "      <td>5613.85</td>\n",
              "      <td>1629.12</td>\n",
              "      <td>0.29019</td>\n",
              "      <td>51.5524</td>\n",
              "      <td>7.842271e+05</td>\n",
              "      <td>7.348026</td>\n",
              "    </tr>\n",
              "    <tr>\n",
              "      <th>2</th>\n",
              "      <td>12421.10</td>\n",
              "      <td>3062.41</td>\n",
              "      <td>0.24654</td>\n",
              "      <td>154.1560</td>\n",
              "      <td>1.763575e+06</td>\n",
              "      <td>3.096391</td>\n",
              "    </tr>\n",
              "    <tr>\n",
              "      <th>3</th>\n",
              "      <td>6830.77</td>\n",
              "      <td>2457.66</td>\n",
              "      <td>0.35979</td>\n",
              "      <td>56.8995</td>\n",
              "      <td>9.296623e+05</td>\n",
              "      <td>10.489805</td>\n",
              "    </tr>\n",
              "    <tr>\n",
              "      <th>4</th>\n",
              "      <td>33407.80</td>\n",
              "      <td>12353.60</td>\n",
              "      <td>0.36978</td>\n",
              "      <td>219.0740</td>\n",
              "      <td>4.595871e+06</td>\n",
              "      <td>27.416072</td>\n",
              "    </tr>\n",
              "    <tr>\n",
              "      <th>...</th>\n",
              "      <td>...</td>\n",
              "      <td>...</td>\n",
              "      <td>...</td>\n",
              "      <td>...</td>\n",
              "      <td>...</td>\n",
              "      <td>...</td>\n",
              "    </tr>\n",
              "    <tr>\n",
              "      <th>36579</th>\n",
              "      <td>16301.90</td>\n",
              "      <td>4967.74</td>\n",
              "      <td>0.30473</td>\n",
              "      <td>210.0270</td>\n",
              "      <td>2.130257e+06</td>\n",
              "      <td>6.980089</td>\n",
              "    </tr>\n",
              "    <tr>\n",
              "      <th>36580</th>\n",
              "      <td>8111.15</td>\n",
              "      <td>1910.59</td>\n",
              "      <td>0.23555</td>\n",
              "      <td>70.8298</td>\n",
              "      <td>1.149657e+06</td>\n",
              "      <td>7.591675</td>\n",
              "    </tr>\n",
              "    <tr>\n",
              "      <th>36581</th>\n",
              "      <td>13554.10</td>\n",
              "      <td>3963.33</td>\n",
              "      <td>0.29240</td>\n",
              "      <td>144.6260</td>\n",
              "      <td>1.815171e+06</td>\n",
              "      <td>7.315385</td>\n",
              "    </tr>\n",
              "    <tr>\n",
              "      <th>36582</th>\n",
              "      <td>5764.68</td>\n",
              "      <td>1117.16</td>\n",
              "      <td>0.19379</td>\n",
              "      <td>54.9415</td>\n",
              "      <td>7.784623e+05</td>\n",
              "      <td>4.724118</td>\n",
              "    </tr>\n",
              "    <tr>\n",
              "      <th>36583</th>\n",
              "      <td>4419.05</td>\n",
              "      <td>840.74</td>\n",
              "      <td>0.19025</td>\n",
              "      <td>45.5905</td>\n",
              "      <td>5.966973e+05</td>\n",
              "      <td>3.169346</td>\n",
              "    </tr>\n",
              "  </tbody>\n",
              "</table>\n",
              "<p>36584 rows × 6 columns</p>\n",
              "</div>\n",
              "      <button class=\"colab-df-convert\" onclick=\"convertToInteractive('df-75f5a35e-969a-4034-b264-6ddaf7ecdca6')\"\n",
              "              title=\"Convert this dataframe to an interactive table.\"\n",
              "              style=\"display:none;\">\n",
              "        \n",
              "  <svg xmlns=\"http://www.w3.org/2000/svg\" height=\"24px\"viewBox=\"0 0 24 24\"\n",
              "       width=\"24px\">\n",
              "    <path d=\"M0 0h24v24H0V0z\" fill=\"none\"/>\n",
              "    <path d=\"M18.56 5.44l.94 2.06.94-2.06 2.06-.94-2.06-.94-.94-2.06-.94 2.06-2.06.94zm-11 1L8.5 8.5l.94-2.06 2.06-.94-2.06-.94L8.5 2.5l-.94 2.06-2.06.94zm10 10l.94 2.06.94-2.06 2.06-.94-2.06-.94-.94-2.06-.94 2.06-2.06.94z\"/><path d=\"M17.41 7.96l-1.37-1.37c-.4-.4-.92-.59-1.43-.59-.52 0-1.04.2-1.43.59L10.3 9.45l-7.72 7.72c-.78.78-.78 2.05 0 2.83L4 21.41c.39.39.9.59 1.41.59.51 0 1.02-.2 1.41-.59l7.78-7.78 2.81-2.81c.8-.78.8-2.07 0-2.86zM5.41 20L4 18.59l7.72-7.72 1.47 1.35L5.41 20z\"/>\n",
              "  </svg>\n",
              "      </button>\n",
              "      \n",
              "  <style>\n",
              "    .colab-df-container {\n",
              "      display:flex;\n",
              "      flex-wrap:wrap;\n",
              "      gap: 12px;\n",
              "    }\n",
              "\n",
              "    .colab-df-convert {\n",
              "      background-color: #E8F0FE;\n",
              "      border: none;\n",
              "      border-radius: 50%;\n",
              "      cursor: pointer;\n",
              "      display: none;\n",
              "      fill: #1967D2;\n",
              "      height: 32px;\n",
              "      padding: 0 0 0 0;\n",
              "      width: 32px;\n",
              "    }\n",
              "\n",
              "    .colab-df-convert:hover {\n",
              "      background-color: #E2EBFA;\n",
              "      box-shadow: 0px 1px 2px rgba(60, 64, 67, 0.3), 0px 1px 3px 1px rgba(60, 64, 67, 0.15);\n",
              "      fill: #174EA6;\n",
              "    }\n",
              "\n",
              "    [theme=dark] .colab-df-convert {\n",
              "      background-color: #3B4455;\n",
              "      fill: #D2E3FC;\n",
              "    }\n",
              "\n",
              "    [theme=dark] .colab-df-convert:hover {\n",
              "      background-color: #434B5C;\n",
              "      box-shadow: 0px 1px 3px 1px rgba(0, 0, 0, 0.15);\n",
              "      filter: drop-shadow(0px 1px 2px rgba(0, 0, 0, 0.3));\n",
              "      fill: #FFFFFF;\n",
              "    }\n",
              "  </style>\n",
              "\n",
              "      <script>\n",
              "        const buttonEl =\n",
              "          document.querySelector('#df-75f5a35e-969a-4034-b264-6ddaf7ecdca6 button.colab-df-convert');\n",
              "        buttonEl.style.display =\n",
              "          google.colab.kernel.accessAllowed ? 'block' : 'none';\n",
              "\n",
              "        async function convertToInteractive(key) {\n",
              "          const element = document.querySelector('#df-75f5a35e-969a-4034-b264-6ddaf7ecdca6');\n",
              "          const dataTable =\n",
              "            await google.colab.kernel.invokeFunction('convertToInteractive',\n",
              "                                                     [key], {});\n",
              "          if (!dataTable) return;\n",
              "\n",
              "          const docLinkHtml = 'Like what you see? Visit the ' +\n",
              "            '<a target=\"_blank\" href=https://colab.research.google.com/notebooks/data_table.ipynb>data table notebook</a>'\n",
              "            + ' to learn more about interactive tables.';\n",
              "          element.innerHTML = '';\n",
              "          dataTable['output_type'] = 'display_data';\n",
              "          await google.colab.output.renderOutput(dataTable, element);\n",
              "          const docLink = document.createElement('div');\n",
              "          docLink.innerHTML = docLinkHtml;\n",
              "          element.appendChild(docLink);\n",
              "        }\n",
              "      </script>\n",
              "    </div>\n",
              "  </div>\n",
              "  "
            ]
          },
          "metadata": {},
          "execution_count": 5
        }
      ]
    },
    {
      "cell_type": "code",
      "source": [
        "t.shape# printing the size of dataset"
      ],
      "metadata": {
        "colab": {
          "base_uri": "https://localhost:8080/"
        },
        "id": "LsWdwIwaUycD",
        "outputId": "f567261f-ae04-464e-fa6c-5144a5341055"
      },
      "execution_count": null,
      "outputs": [
        {
          "output_type": "execute_result",
          "data": {
            "text/plain": [
              "(36584, 6)"
            ]
          },
          "metadata": {},
          "execution_count": 6
        }
      ]
    },
    {
      "cell_type": "code",
      "source": [
        "X=t.iloc[:,0:5] #defining label\n",
        "Y=t.iloc[:,5] #defining classes\n",
        "X_train, X_test, y_train, y_test= train_test_split(X, Y, test_size= 0.6) #splitting the dataset in test train and split"
      ],
      "metadata": {
        "id": "x5Hm0lOQja27"
      },
      "execution_count": null,
      "outputs": []
    },
    {
      "cell_type": "code",
      "source": [
        "#printing x\n",
        "X"
      ],
      "metadata": {
        "colab": {
          "base_uri": "https://localhost:8080/",
          "height": 424
        },
        "id": "HRQfgXEGkFOK",
        "outputId": "8f68e916-9bbb-4dfd-bc1d-88bcba48a322"
      },
      "execution_count": null,
      "outputs": [
        {
          "output_type": "execute_result",
          "data": {
            "text/plain": [
              "       mass_npea  size_npear  malign_ratio  damage_size  exposed_area\n",
              "0        4946.44      914.06       0.18479      54.5566  6.628345e+05\n",
              "1        5613.85     1629.12       0.29019      51.5524  7.842271e+05\n",
              "2       12421.10     3062.41       0.24654     154.1560  1.763575e+06\n",
              "3        6830.77     2457.66       0.35979      56.8995  9.296623e+05\n",
              "4       33407.80    12353.60       0.36978     219.0740  4.595871e+06\n",
              "...          ...         ...           ...          ...           ...\n",
              "36579   16301.90     4967.74       0.30473     210.0270  2.130257e+06\n",
              "36580    8111.15     1910.59       0.23555      70.8298  1.149657e+06\n",
              "36581   13554.10     3963.33       0.29240     144.6260  1.815171e+06\n",
              "36582    5764.68     1117.16       0.19379      54.9415  7.784623e+05\n",
              "36583    4419.05      840.74       0.19025      45.5905  5.966973e+05\n",
              "\n",
              "[36584 rows x 5 columns]"
            ],
            "text/html": [
              "\n",
              "  <div id=\"df-a5ce8b8f-3fba-4c39-a294-0e12b0a7a00e\">\n",
              "    <div class=\"colab-df-container\">\n",
              "      <div>\n",
              "<style scoped>\n",
              "    .dataframe tbody tr th:only-of-type {\n",
              "        vertical-align: middle;\n",
              "    }\n",
              "\n",
              "    .dataframe tbody tr th {\n",
              "        vertical-align: top;\n",
              "    }\n",
              "\n",
              "    .dataframe thead th {\n",
              "        text-align: right;\n",
              "    }\n",
              "</style>\n",
              "<table border=\"1\" class=\"dataframe\">\n",
              "  <thead>\n",
              "    <tr style=\"text-align: right;\">\n",
              "      <th></th>\n",
              "      <th>mass_npea</th>\n",
              "      <th>size_npear</th>\n",
              "      <th>malign_ratio</th>\n",
              "      <th>damage_size</th>\n",
              "      <th>exposed_area</th>\n",
              "    </tr>\n",
              "  </thead>\n",
              "  <tbody>\n",
              "    <tr>\n",
              "      <th>0</th>\n",
              "      <td>4946.44</td>\n",
              "      <td>914.06</td>\n",
              "      <td>0.18479</td>\n",
              "      <td>54.5566</td>\n",
              "      <td>6.628345e+05</td>\n",
              "    </tr>\n",
              "    <tr>\n",
              "      <th>1</th>\n",
              "      <td>5613.85</td>\n",
              "      <td>1629.12</td>\n",
              "      <td>0.29019</td>\n",
              "      <td>51.5524</td>\n",
              "      <td>7.842271e+05</td>\n",
              "    </tr>\n",
              "    <tr>\n",
              "      <th>2</th>\n",
              "      <td>12421.10</td>\n",
              "      <td>3062.41</td>\n",
              "      <td>0.24654</td>\n",
              "      <td>154.1560</td>\n",
              "      <td>1.763575e+06</td>\n",
              "    </tr>\n",
              "    <tr>\n",
              "      <th>3</th>\n",
              "      <td>6830.77</td>\n",
              "      <td>2457.66</td>\n",
              "      <td>0.35979</td>\n",
              "      <td>56.8995</td>\n",
              "      <td>9.296623e+05</td>\n",
              "    </tr>\n",
              "    <tr>\n",
              "      <th>4</th>\n",
              "      <td>33407.80</td>\n",
              "      <td>12353.60</td>\n",
              "      <td>0.36978</td>\n",
              "      <td>219.0740</td>\n",
              "      <td>4.595871e+06</td>\n",
              "    </tr>\n",
              "    <tr>\n",
              "      <th>...</th>\n",
              "      <td>...</td>\n",
              "      <td>...</td>\n",
              "      <td>...</td>\n",
              "      <td>...</td>\n",
              "      <td>...</td>\n",
              "    </tr>\n",
              "    <tr>\n",
              "      <th>36579</th>\n",
              "      <td>16301.90</td>\n",
              "      <td>4967.74</td>\n",
              "      <td>0.30473</td>\n",
              "      <td>210.0270</td>\n",
              "      <td>2.130257e+06</td>\n",
              "    </tr>\n",
              "    <tr>\n",
              "      <th>36580</th>\n",
              "      <td>8111.15</td>\n",
              "      <td>1910.59</td>\n",
              "      <td>0.23555</td>\n",
              "      <td>70.8298</td>\n",
              "      <td>1.149657e+06</td>\n",
              "    </tr>\n",
              "    <tr>\n",
              "      <th>36581</th>\n",
              "      <td>13554.10</td>\n",
              "      <td>3963.33</td>\n",
              "      <td>0.29240</td>\n",
              "      <td>144.6260</td>\n",
              "      <td>1.815171e+06</td>\n",
              "    </tr>\n",
              "    <tr>\n",
              "      <th>36582</th>\n",
              "      <td>5764.68</td>\n",
              "      <td>1117.16</td>\n",
              "      <td>0.19379</td>\n",
              "      <td>54.9415</td>\n",
              "      <td>7.784623e+05</td>\n",
              "    </tr>\n",
              "    <tr>\n",
              "      <th>36583</th>\n",
              "      <td>4419.05</td>\n",
              "      <td>840.74</td>\n",
              "      <td>0.19025</td>\n",
              "      <td>45.5905</td>\n",
              "      <td>5.966973e+05</td>\n",
              "    </tr>\n",
              "  </tbody>\n",
              "</table>\n",
              "<p>36584 rows × 5 columns</p>\n",
              "</div>\n",
              "      <button class=\"colab-df-convert\" onclick=\"convertToInteractive('df-a5ce8b8f-3fba-4c39-a294-0e12b0a7a00e')\"\n",
              "              title=\"Convert this dataframe to an interactive table.\"\n",
              "              style=\"display:none;\">\n",
              "        \n",
              "  <svg xmlns=\"http://www.w3.org/2000/svg\" height=\"24px\"viewBox=\"0 0 24 24\"\n",
              "       width=\"24px\">\n",
              "    <path d=\"M0 0h24v24H0V0z\" fill=\"none\"/>\n",
              "    <path d=\"M18.56 5.44l.94 2.06.94-2.06 2.06-.94-2.06-.94-.94-2.06-.94 2.06-2.06.94zm-11 1L8.5 8.5l.94-2.06 2.06-.94-2.06-.94L8.5 2.5l-.94 2.06-2.06.94zm10 10l.94 2.06.94-2.06 2.06-.94-2.06-.94-.94-2.06-.94 2.06-2.06.94z\"/><path d=\"M17.41 7.96l-1.37-1.37c-.4-.4-.92-.59-1.43-.59-.52 0-1.04.2-1.43.59L10.3 9.45l-7.72 7.72c-.78.78-.78 2.05 0 2.83L4 21.41c.39.39.9.59 1.41.59.51 0 1.02-.2 1.41-.59l7.78-7.78 2.81-2.81c.8-.78.8-2.07 0-2.86zM5.41 20L4 18.59l7.72-7.72 1.47 1.35L5.41 20z\"/>\n",
              "  </svg>\n",
              "      </button>\n",
              "      \n",
              "  <style>\n",
              "    .colab-df-container {\n",
              "      display:flex;\n",
              "      flex-wrap:wrap;\n",
              "      gap: 12px;\n",
              "    }\n",
              "\n",
              "    .colab-df-convert {\n",
              "      background-color: #E8F0FE;\n",
              "      border: none;\n",
              "      border-radius: 50%;\n",
              "      cursor: pointer;\n",
              "      display: none;\n",
              "      fill: #1967D2;\n",
              "      height: 32px;\n",
              "      padding: 0 0 0 0;\n",
              "      width: 32px;\n",
              "    }\n",
              "\n",
              "    .colab-df-convert:hover {\n",
              "      background-color: #E2EBFA;\n",
              "      box-shadow: 0px 1px 2px rgba(60, 64, 67, 0.3), 0px 1px 3px 1px rgba(60, 64, 67, 0.15);\n",
              "      fill: #174EA6;\n",
              "    }\n",
              "\n",
              "    [theme=dark] .colab-df-convert {\n",
              "      background-color: #3B4455;\n",
              "      fill: #D2E3FC;\n",
              "    }\n",
              "\n",
              "    [theme=dark] .colab-df-convert:hover {\n",
              "      background-color: #434B5C;\n",
              "      box-shadow: 0px 1px 3px 1px rgba(0, 0, 0, 0.15);\n",
              "      filter: drop-shadow(0px 1px 2px rgba(0, 0, 0, 0.3));\n",
              "      fill: #FFFFFF;\n",
              "    }\n",
              "  </style>\n",
              "\n",
              "      <script>\n",
              "        const buttonEl =\n",
              "          document.querySelector('#df-a5ce8b8f-3fba-4c39-a294-0e12b0a7a00e button.colab-df-convert');\n",
              "        buttonEl.style.display =\n",
              "          google.colab.kernel.accessAllowed ? 'block' : 'none';\n",
              "\n",
              "        async function convertToInteractive(key) {\n",
              "          const element = document.querySelector('#df-a5ce8b8f-3fba-4c39-a294-0e12b0a7a00e');\n",
              "          const dataTable =\n",
              "            await google.colab.kernel.invokeFunction('convertToInteractive',\n",
              "                                                     [key], {});\n",
              "          if (!dataTable) return;\n",
              "\n",
              "          const docLinkHtml = 'Like what you see? Visit the ' +\n",
              "            '<a target=\"_blank\" href=https://colab.research.google.com/notebooks/data_table.ipynb>data table notebook</a>'\n",
              "            + ' to learn more about interactive tables.';\n",
              "          element.innerHTML = '';\n",
              "          dataTable['output_type'] = 'display_data';\n",
              "          await google.colab.output.renderOutput(dataTable, element);\n",
              "          const docLink = document.createElement('div');\n",
              "          docLink.innerHTML = docLinkHtml;\n",
              "          element.appendChild(docLink);\n",
              "        }\n",
              "      </script>\n",
              "    </div>\n",
              "  </div>\n",
              "  "
            ]
          },
          "metadata": {},
          "execution_count": 8
        }
      ]
    },
    {
      "cell_type": "code",
      "source": [
        "#printing y\n",
        "Y"
      ],
      "metadata": {
        "colab": {
          "base_uri": "https://localhost:8080/"
        },
        "id": "LgvoJUZokLQi",
        "outputId": "15de7aff-d5e0-4174-f876-0ee5a3cedc60"
      },
      "execution_count": null,
      "outputs": [
        {
          "output_type": "execute_result",
          "data": {
            "text/plain": [
              "0         3.418762\n",
              "1         7.348026\n",
              "2         3.096391\n",
              "3        10.489805\n",
              "4        27.416072\n",
              "           ...    \n",
              "36579     6.980089\n",
              "36580     7.591675\n",
              "36581     7.315385\n",
              "36582     4.724118\n",
              "36583     3.169346\n",
              "Name: tumor_size, Length: 36584, dtype: float64"
            ]
          },
          "metadata": {},
          "execution_count": 9
        }
      ]
    },
    {
      "cell_type": "code",
      "source": [
        "#printing first 5 coloum of X_train\n",
        "X_train.head()"
      ],
      "metadata": {
        "colab": {
          "base_uri": "https://localhost:8080/",
          "height": 206
        },
        "id": "I_dER5vBkQsl",
        "outputId": "24dc8b78-5ee1-4570-9387-e425f36e6996"
      },
      "execution_count": null,
      "outputs": [
        {
          "output_type": "execute_result",
          "data": {
            "text/plain": [
              "       mass_npea  size_npear  malign_ratio  damage_size  exposed_area\n",
              "25021    6337.66     1826.02       0.28812      64.0168  8.358802e+05\n",
              "24858   12792.90     4452.68       0.34805     114.5020  1.773302e+06\n",
              "19491    8371.54     2384.26       0.28480      74.8215  1.132135e+06\n",
              "9552     7492.96     2315.31       0.30899      64.8563  1.057301e+06\n",
              "17658    4427.14     1484.84       0.33539      35.7454  6.189700e+05"
            ],
            "text/html": [
              "\n",
              "  <div id=\"df-fd3745ed-1620-4008-8f9f-dc538b123d40\">\n",
              "    <div class=\"colab-df-container\">\n",
              "      <div>\n",
              "<style scoped>\n",
              "    .dataframe tbody tr th:only-of-type {\n",
              "        vertical-align: middle;\n",
              "    }\n",
              "\n",
              "    .dataframe tbody tr th {\n",
              "        vertical-align: top;\n",
              "    }\n",
              "\n",
              "    .dataframe thead th {\n",
              "        text-align: right;\n",
              "    }\n",
              "</style>\n",
              "<table border=\"1\" class=\"dataframe\">\n",
              "  <thead>\n",
              "    <tr style=\"text-align: right;\">\n",
              "      <th></th>\n",
              "      <th>mass_npea</th>\n",
              "      <th>size_npear</th>\n",
              "      <th>malign_ratio</th>\n",
              "      <th>damage_size</th>\n",
              "      <th>exposed_area</th>\n",
              "    </tr>\n",
              "  </thead>\n",
              "  <tbody>\n",
              "    <tr>\n",
              "      <th>25021</th>\n",
              "      <td>6337.66</td>\n",
              "      <td>1826.02</td>\n",
              "      <td>0.28812</td>\n",
              "      <td>64.0168</td>\n",
              "      <td>8.358802e+05</td>\n",
              "    </tr>\n",
              "    <tr>\n",
              "      <th>24858</th>\n",
              "      <td>12792.90</td>\n",
              "      <td>4452.68</td>\n",
              "      <td>0.34805</td>\n",
              "      <td>114.5020</td>\n",
              "      <td>1.773302e+06</td>\n",
              "    </tr>\n",
              "    <tr>\n",
              "      <th>19491</th>\n",
              "      <td>8371.54</td>\n",
              "      <td>2384.26</td>\n",
              "      <td>0.28480</td>\n",
              "      <td>74.8215</td>\n",
              "      <td>1.132135e+06</td>\n",
              "    </tr>\n",
              "    <tr>\n",
              "      <th>9552</th>\n",
              "      <td>7492.96</td>\n",
              "      <td>2315.31</td>\n",
              "      <td>0.30899</td>\n",
              "      <td>64.8563</td>\n",
              "      <td>1.057301e+06</td>\n",
              "    </tr>\n",
              "    <tr>\n",
              "      <th>17658</th>\n",
              "      <td>4427.14</td>\n",
              "      <td>1484.84</td>\n",
              "      <td>0.33539</td>\n",
              "      <td>35.7454</td>\n",
              "      <td>6.189700e+05</td>\n",
              "    </tr>\n",
              "  </tbody>\n",
              "</table>\n",
              "</div>\n",
              "      <button class=\"colab-df-convert\" onclick=\"convertToInteractive('df-fd3745ed-1620-4008-8f9f-dc538b123d40')\"\n",
              "              title=\"Convert this dataframe to an interactive table.\"\n",
              "              style=\"display:none;\">\n",
              "        \n",
              "  <svg xmlns=\"http://www.w3.org/2000/svg\" height=\"24px\"viewBox=\"0 0 24 24\"\n",
              "       width=\"24px\">\n",
              "    <path d=\"M0 0h24v24H0V0z\" fill=\"none\"/>\n",
              "    <path d=\"M18.56 5.44l.94 2.06.94-2.06 2.06-.94-2.06-.94-.94-2.06-.94 2.06-2.06.94zm-11 1L8.5 8.5l.94-2.06 2.06-.94-2.06-.94L8.5 2.5l-.94 2.06-2.06.94zm10 10l.94 2.06.94-2.06 2.06-.94-2.06-.94-.94-2.06-.94 2.06-2.06.94z\"/><path d=\"M17.41 7.96l-1.37-1.37c-.4-.4-.92-.59-1.43-.59-.52 0-1.04.2-1.43.59L10.3 9.45l-7.72 7.72c-.78.78-.78 2.05 0 2.83L4 21.41c.39.39.9.59 1.41.59.51 0 1.02-.2 1.41-.59l7.78-7.78 2.81-2.81c.8-.78.8-2.07 0-2.86zM5.41 20L4 18.59l7.72-7.72 1.47 1.35L5.41 20z\"/>\n",
              "  </svg>\n",
              "      </button>\n",
              "      \n",
              "  <style>\n",
              "    .colab-df-container {\n",
              "      display:flex;\n",
              "      flex-wrap:wrap;\n",
              "      gap: 12px;\n",
              "    }\n",
              "\n",
              "    .colab-df-convert {\n",
              "      background-color: #E8F0FE;\n",
              "      border: none;\n",
              "      border-radius: 50%;\n",
              "      cursor: pointer;\n",
              "      display: none;\n",
              "      fill: #1967D2;\n",
              "      height: 32px;\n",
              "      padding: 0 0 0 0;\n",
              "      width: 32px;\n",
              "    }\n",
              "\n",
              "    .colab-df-convert:hover {\n",
              "      background-color: #E2EBFA;\n",
              "      box-shadow: 0px 1px 2px rgba(60, 64, 67, 0.3), 0px 1px 3px 1px rgba(60, 64, 67, 0.15);\n",
              "      fill: #174EA6;\n",
              "    }\n",
              "\n",
              "    [theme=dark] .colab-df-convert {\n",
              "      background-color: #3B4455;\n",
              "      fill: #D2E3FC;\n",
              "    }\n",
              "\n",
              "    [theme=dark] .colab-df-convert:hover {\n",
              "      background-color: #434B5C;\n",
              "      box-shadow: 0px 1px 3px 1px rgba(0, 0, 0, 0.15);\n",
              "      filter: drop-shadow(0px 1px 2px rgba(0, 0, 0, 0.3));\n",
              "      fill: #FFFFFF;\n",
              "    }\n",
              "  </style>\n",
              "\n",
              "      <script>\n",
              "        const buttonEl =\n",
              "          document.querySelector('#df-fd3745ed-1620-4008-8f9f-dc538b123d40 button.colab-df-convert');\n",
              "        buttonEl.style.display =\n",
              "          google.colab.kernel.accessAllowed ? 'block' : 'none';\n",
              "\n",
              "        async function convertToInteractive(key) {\n",
              "          const element = document.querySelector('#df-fd3745ed-1620-4008-8f9f-dc538b123d40');\n",
              "          const dataTable =\n",
              "            await google.colab.kernel.invokeFunction('convertToInteractive',\n",
              "                                                     [key], {});\n",
              "          if (!dataTable) return;\n",
              "\n",
              "          const docLinkHtml = 'Like what you see? Visit the ' +\n",
              "            '<a target=\"_blank\" href=https://colab.research.google.com/notebooks/data_table.ipynb>data table notebook</a>'\n",
              "            + ' to learn more about interactive tables.';\n",
              "          element.innerHTML = '';\n",
              "          dataTable['output_type'] = 'display_data';\n",
              "          await google.colab.output.renderOutput(dataTable, element);\n",
              "          const docLink = document.createElement('div');\n",
              "          docLink.innerHTML = docLinkHtml;\n",
              "          element.appendChild(docLink);\n",
              "        }\n",
              "      </script>\n",
              "    </div>\n",
              "  </div>\n",
              "  "
            ]
          },
          "metadata": {},
          "execution_count": 10
        }
      ]
    },
    {
      "cell_type": "code",
      "source": [
        "#printing first 5 coloum of Y_train\n",
        "y_train.head()"
      ],
      "metadata": {
        "colab": {
          "base_uri": "https://localhost:8080/"
        },
        "id": "9psKUJFskawV",
        "outputId": "43d9342e-0b50-4888-a397-f39cbb5314c6"
      },
      "execution_count": null,
      "outputs": [
        {
          "output_type": "execute_result",
          "data": {
            "text/plain": [
              "25021     7.309850\n",
              "24858    12.877252\n",
              "19491     9.214883\n",
              "9552      9.161016\n",
              "17658     8.716940\n",
              "Name: tumor_size, dtype: float64"
            ]
          },
          "metadata": {},
          "execution_count": 11
        }
      ]
    },
    {
      "cell_type": "code",
      "source": [
        "#printing first 5 coloum of X_test\n",
        "X_test.head()"
      ],
      "metadata": {
        "colab": {
          "base_uri": "https://localhost:8080/",
          "height": 206
        },
        "id": "-fHED7yukmKF",
        "outputId": "13121857-f21e-4773-ab5f-f05655bf731c"
      },
      "execution_count": null,
      "outputs": [
        {
          "output_type": "execute_result",
          "data": {
            "text/plain": [
              "       mass_npea  size_npear  malign_ratio  damage_size  exposed_area\n",
              "35148   17719.80     5364.28       0.30272     208.8310  2.442435e+06\n",
              "5239     9230.47     2263.17       0.24518      82.1687  1.313768e+06\n",
              "11256    5895.64      992.17       0.16828      53.8057  8.144741e+05\n",
              "22801   13845.60     4496.51       0.32476     134.1590  1.929731e+06\n",
              "28572    6535.72     1292.45       0.19775      47.5608  9.312717e+05"
            ],
            "text/html": [
              "\n",
              "  <div id=\"df-be9dbff1-618e-4ef4-a553-2a5bac193011\">\n",
              "    <div class=\"colab-df-container\">\n",
              "      <div>\n",
              "<style scoped>\n",
              "    .dataframe tbody tr th:only-of-type {\n",
              "        vertical-align: middle;\n",
              "    }\n",
              "\n",
              "    .dataframe tbody tr th {\n",
              "        vertical-align: top;\n",
              "    }\n",
              "\n",
              "    .dataframe thead th {\n",
              "        text-align: right;\n",
              "    }\n",
              "</style>\n",
              "<table border=\"1\" class=\"dataframe\">\n",
              "  <thead>\n",
              "    <tr style=\"text-align: right;\">\n",
              "      <th></th>\n",
              "      <th>mass_npea</th>\n",
              "      <th>size_npear</th>\n",
              "      <th>malign_ratio</th>\n",
              "      <th>damage_size</th>\n",
              "      <th>exposed_area</th>\n",
              "    </tr>\n",
              "  </thead>\n",
              "  <tbody>\n",
              "    <tr>\n",
              "      <th>35148</th>\n",
              "      <td>17719.80</td>\n",
              "      <td>5364.28</td>\n",
              "      <td>0.30272</td>\n",
              "      <td>208.8310</td>\n",
              "      <td>2.442435e+06</td>\n",
              "    </tr>\n",
              "    <tr>\n",
              "      <th>5239</th>\n",
              "      <td>9230.47</td>\n",
              "      <td>2263.17</td>\n",
              "      <td>0.24518</td>\n",
              "      <td>82.1687</td>\n",
              "      <td>1.313768e+06</td>\n",
              "    </tr>\n",
              "    <tr>\n",
              "      <th>11256</th>\n",
              "      <td>5895.64</td>\n",
              "      <td>992.17</td>\n",
              "      <td>0.16828</td>\n",
              "      <td>53.8057</td>\n",
              "      <td>8.144741e+05</td>\n",
              "    </tr>\n",
              "    <tr>\n",
              "      <th>22801</th>\n",
              "      <td>13845.60</td>\n",
              "      <td>4496.51</td>\n",
              "      <td>0.32476</td>\n",
              "      <td>134.1590</td>\n",
              "      <td>1.929731e+06</td>\n",
              "    </tr>\n",
              "    <tr>\n",
              "      <th>28572</th>\n",
              "      <td>6535.72</td>\n",
              "      <td>1292.45</td>\n",
              "      <td>0.19775</td>\n",
              "      <td>47.5608</td>\n",
              "      <td>9.312717e+05</td>\n",
              "    </tr>\n",
              "  </tbody>\n",
              "</table>\n",
              "</div>\n",
              "      <button class=\"colab-df-convert\" onclick=\"convertToInteractive('df-be9dbff1-618e-4ef4-a553-2a5bac193011')\"\n",
              "              title=\"Convert this dataframe to an interactive table.\"\n",
              "              style=\"display:none;\">\n",
              "        \n",
              "  <svg xmlns=\"http://www.w3.org/2000/svg\" height=\"24px\"viewBox=\"0 0 24 24\"\n",
              "       width=\"24px\">\n",
              "    <path d=\"M0 0h24v24H0V0z\" fill=\"none\"/>\n",
              "    <path d=\"M18.56 5.44l.94 2.06.94-2.06 2.06-.94-2.06-.94-.94-2.06-.94 2.06-2.06.94zm-11 1L8.5 8.5l.94-2.06 2.06-.94-2.06-.94L8.5 2.5l-.94 2.06-2.06.94zm10 10l.94 2.06.94-2.06 2.06-.94-2.06-.94-.94-2.06-.94 2.06-2.06.94z\"/><path d=\"M17.41 7.96l-1.37-1.37c-.4-.4-.92-.59-1.43-.59-.52 0-1.04.2-1.43.59L10.3 9.45l-7.72 7.72c-.78.78-.78 2.05 0 2.83L4 21.41c.39.39.9.59 1.41.59.51 0 1.02-.2 1.41-.59l7.78-7.78 2.81-2.81c.8-.78.8-2.07 0-2.86zM5.41 20L4 18.59l7.72-7.72 1.47 1.35L5.41 20z\"/>\n",
              "  </svg>\n",
              "      </button>\n",
              "      \n",
              "  <style>\n",
              "    .colab-df-container {\n",
              "      display:flex;\n",
              "      flex-wrap:wrap;\n",
              "      gap: 12px;\n",
              "    }\n",
              "\n",
              "    .colab-df-convert {\n",
              "      background-color: #E8F0FE;\n",
              "      border: none;\n",
              "      border-radius: 50%;\n",
              "      cursor: pointer;\n",
              "      display: none;\n",
              "      fill: #1967D2;\n",
              "      height: 32px;\n",
              "      padding: 0 0 0 0;\n",
              "      width: 32px;\n",
              "    }\n",
              "\n",
              "    .colab-df-convert:hover {\n",
              "      background-color: #E2EBFA;\n",
              "      box-shadow: 0px 1px 2px rgba(60, 64, 67, 0.3), 0px 1px 3px 1px rgba(60, 64, 67, 0.15);\n",
              "      fill: #174EA6;\n",
              "    }\n",
              "\n",
              "    [theme=dark] .colab-df-convert {\n",
              "      background-color: #3B4455;\n",
              "      fill: #D2E3FC;\n",
              "    }\n",
              "\n",
              "    [theme=dark] .colab-df-convert:hover {\n",
              "      background-color: #434B5C;\n",
              "      box-shadow: 0px 1px 3px 1px rgba(0, 0, 0, 0.15);\n",
              "      filter: drop-shadow(0px 1px 2px rgba(0, 0, 0, 0.3));\n",
              "      fill: #FFFFFF;\n",
              "    }\n",
              "  </style>\n",
              "\n",
              "      <script>\n",
              "        const buttonEl =\n",
              "          document.querySelector('#df-be9dbff1-618e-4ef4-a553-2a5bac193011 button.colab-df-convert');\n",
              "        buttonEl.style.display =\n",
              "          google.colab.kernel.accessAllowed ? 'block' : 'none';\n",
              "\n",
              "        async function convertToInteractive(key) {\n",
              "          const element = document.querySelector('#df-be9dbff1-618e-4ef4-a553-2a5bac193011');\n",
              "          const dataTable =\n",
              "            await google.colab.kernel.invokeFunction('convertToInteractive',\n",
              "                                                     [key], {});\n",
              "          if (!dataTable) return;\n",
              "\n",
              "          const docLinkHtml = 'Like what you see? Visit the ' +\n",
              "            '<a target=\"_blank\" href=https://colab.research.google.com/notebooks/data_table.ipynb>data table notebook</a>'\n",
              "            + ' to learn more about interactive tables.';\n",
              "          element.innerHTML = '';\n",
              "          dataTable['output_type'] = 'display_data';\n",
              "          await google.colab.output.renderOutput(dataTable, element);\n",
              "          const docLink = document.createElement('div');\n",
              "          docLink.innerHTML = docLinkHtml;\n",
              "          element.appendChild(docLink);\n",
              "        }\n",
              "      </script>\n",
              "    </div>\n",
              "  </div>\n",
              "  "
            ]
          },
          "metadata": {},
          "execution_count": 12
        }
      ]
    },
    {
      "cell_type": "code",
      "source": [
        "#printing first 5 coloum of y_test\n",
        "y_test.head()"
      ],
      "metadata": {
        "colab": {
          "base_uri": "https://localhost:8080/"
        },
        "id": "9MrVX7Jokt4f",
        "outputId": "6062425f-56d6-4c64-c90f-5d8012812310"
      },
      "execution_count": null,
      "outputs": [
        {
          "output_type": "execute_result",
          "data": {
            "text/plain": [
              "35148     8.072661\n",
              "5239      7.319611\n",
              "11256     4.686570\n",
              "22801    12.158401\n",
              "28572     6.665962\n",
              "Name: tumor_size, dtype: float64"
            ]
          },
          "metadata": {},
          "execution_count": 13
        }
      ]
    },
    {
      "cell_type": "code",
      "source": [
        "#loading Linear Regression in a variable\n",
        "mod = LinearRegression()"
      ],
      "metadata": {
        "id": "EWDIqa_5lCdY"
      },
      "execution_count": null,
      "outputs": []
    },
    {
      "cell_type": "code",
      "source": [
        "#training the model with X_train and y_train\n",
        "mod.fit(X_train, y_train)"
      ],
      "metadata": {
        "colab": {
          "base_uri": "https://localhost:8080/"
        },
        "id": "QA3jMtKqlSW2",
        "outputId": "0d7d81dd-e4e3-46db-94ad-5dbbd1b6518c"
      },
      "execution_count": null,
      "outputs": [
        {
          "output_type": "execute_result",
          "data": {
            "text/plain": [
              "LinearRegression()"
            ]
          },
          "metadata": {},
          "execution_count": 15
        }
      ]
    },
    {
      "cell_type": "code",
      "source": [
        "#defining the intercept of the model\n",
        "print(f\"intercept: {mod.intercept_}\")"
      ],
      "metadata": {
        "colab": {
          "base_uri": "https://localhost:8080/"
        },
        "id": "gKhJ76Hgl0ze",
        "outputId": "8eef5c4a-35ef-4e7e-b38e-1ddeaf3a9f26"
      },
      "execution_count": null,
      "outputs": [
        {
          "output_type": "stream",
          "name": "stdout",
          "text": [
            "intercept: -0.8226849027278096\n"
          ]
        }
      ]
    },
    {
      "cell_type": "code",
      "source": [
        "#defining the coffient of the model\n",
        "print(f\"slope: {mod.coef_}\")"
      ],
      "metadata": {
        "colab": {
          "base_uri": "https://localhost:8080/"
        },
        "id": "D7GXJb8Nl71w",
        "outputId": "ca1e48a4-c61d-4e39-8c02-9659b584590d"
      },
      "execution_count": null,
      "outputs": [
        {
          "output_type": "stream",
          "name": "stdout",
          "text": [
            "slope: [ 1.60151002e-03  6.58158896e-04  2.22102896e+01 -1.08981833e-01\n",
            " -3.42998509e-06]\n"
          ]
        }
      ]
    },
    {
      "cell_type": "code",
      "source": [
        "#testing the model\n",
        "y_pred = mod.predict(X_test)\n",
        "print(f\"predicted response:\\n{y_pred}\") #printing the predicted value"
      ],
      "metadata": {
        "colab": {
          "base_uri": "https://localhost:8080/"
        },
        "id": "6owAv2dpmzxm",
        "outputId": "5a0ff248-d43c-49dc-f729-141b4d8e23d0"
      },
      "execution_count": null,
      "outputs": [
        {
          "output_type": "stream",
          "name": "stdout",
          "text": [
            "predicted response:\n",
            "[6.67349957 7.43394954 4.3523169  ... 8.1888969  8.67420335 7.07123172]\n"
          ]
        }
      ]
    },
    {
      "cell_type": "code",
      "source": [
        "q=r2_score(y_test,y_pred)#the accuray of the model\n",
        "print(f\"the accuracy of the model is {(q*100)}%\")#the accuray of the model is less than expected"
      ],
      "metadata": {
        "colab": {
          "base_uri": "https://localhost:8080/"
        },
        "id": "plMgudIto_hU",
        "outputId": "56e3b1f6-1a92-4fe1-9963-9e942f31a13e"
      },
      "execution_count": null,
      "outputs": [
        {
          "output_type": "stream",
          "name": "stdout",
          "text": [
            "the accuracy of the model is 93.39687976385817%\n"
          ]
        }
      ]
    },
    {
      "cell_type": "code",
      "source": [
        "#now we are adding a data of our own\n",
        "a = input(\"Want to check the size of tumor\\n1. Yes \\n2. No\\n\")\n",
        "a = a.lower()\n",
        "if(a==\"yes\"):\n",
        "  b=float(input(\"Enter mass of area under study =\"))\n",
        "  c=float(input(\"Enter size of area under study =\"))\n",
        "  d=float(input(\"Enter m align ratio =\"))\n",
        "  e=float(input(\"Enter damaged size =\"))\n",
        "  f=float(input(\"Enter mass exposed area =\"))\n",
        "  z=[[b,c,d,e,f]]\n",
        "  result = mod.predict(z)\n",
        "  print(f\"The size of Tumor is {result} with accuracy of {q*100}%\")\n",
        "else:\n",
        "  print(\"Thanks for visiting\")"
      ],
      "metadata": {
        "colab": {
          "base_uri": "https://localhost:8080/"
        },
        "id": "a6-t-x5Xr1Re",
        "outputId": "14b4e348-ae2a-428a-c58d-4b1e596aa7c4"
      },
      "execution_count": null,
      "outputs": [
        {
          "output_type": "stream",
          "name": "stdout",
          "text": [
            "Want to check the size of tumor\n",
            "1. Yes \n",
            "2. No\n",
            "yes\n",
            "Enter mass of area under study =3564.5\n",
            "Enter size of area under study =3654.5\n",
            "Enter m align ratio =0.3654\n",
            "Enter damaged size =51.6\n",
            "Enter mass exposed area =123478.63\n",
            "The size of Tumor is [9.35978663] with accuracy of 93.39687976385817%\n"
          ]
        },
        {
          "output_type": "stream",
          "name": "stderr",
          "text": [
            "/usr/local/lib/python3.8/dist-packages/sklearn/base.py:450: UserWarning: X does not have valid feature names, but LinearRegression was fitted with feature names\n",
            "  warnings.warn(\n"
          ]
        }
      ]
    }
  ]
}